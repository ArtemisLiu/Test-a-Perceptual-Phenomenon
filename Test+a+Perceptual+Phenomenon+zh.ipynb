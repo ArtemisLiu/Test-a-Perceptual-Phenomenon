{
 "cells": [
  {
   "cell_type": "markdown",
   "metadata": {},
   "source": [
    "### 统计学：检验心理学现象\n",
    "\n",
    "背景信息\n",
    "\n",
    "在一个Stroop （斯特鲁普）任务中，参与者得到了一列文字，每个文字都用一种油墨颜色展示。参与者的任务是将文字的打印颜色大声说出来。这项任务有两个条件：一致文字条件，和不一致文字条件。在一致文字条件中，显示的文字是与它们的打印颜色匹配的颜色词，如“红色”、“蓝色”。在不一致文字条件中，显示的文字是与它们的打印颜色不匹配的颜色词，如“紫色”、“橙色”。在每个情况中，我们将计量说出同等大小的列表中的墨色名称的时间。每位参与者必须全部完成并记录每种条件下使用的时间。\n",
    "\n",
    "调查问题\n",
    "\n",
    "(1) 我们的自变量是什么？因变量是什么？"
   ]
  },
  {
   "cell_type": "markdown",
   "metadata": {},
   "source": [
    "自变量：显示的文字与它们的打印颜色是否匹配\n",
    "\n",
    "因变量：说出同等大小的列表中的墨色名称的时间"
   ]
  },
  {
   "cell_type": "markdown",
   "metadata": {},
   "source": [
    "(2) 此任务的适当假设集是什么？"
   ]
  },
  {
   "cell_type": "markdown",
   "metadata": {},
   "source": [
    "我要研究在两种不同的匹配条件下，参与者完成测试所需时间是否有显著性差异。我使用总体的参数$\\mu_d$来代表总体的颜色词和打印颜色匹配情况下的用时减去颜色词和打印颜色不匹配情况下的用时的平均值，即其总体差值的平均值，我推测不匹配情况下用时会更多，要验证推测，则设置假设集为：\n",
    "\n",
    "零假设（$H_0）: \\mu_d \\geq 0$ （即总体的颜色词与它们文字的打印颜色匹配的情况下说出墨色的时间大于或等于不匹配的情况下说出墨色的时间）\n",
    "\n",
    "对立假设（$H_1）: \\mu_d < 0$ （即总体的颜色词与它们文字的打印颜色匹配的情况下说出墨色的时间小于不匹配的情况下说出墨色的时间）\n",
    "\n",
    "选择配对t检验对提出的假设进行检验。因为配对t检验的目的是检验相关或配对观测值之差的均值是否等于目标值，与我们上述匹配文字条件下与不匹配条件下差值的平均值是否大于等于或小于零的假设相一致，故选择配对t检验。因为此实验的样本为每位参与者在两种情况下完成测试的时间，参与者在匹配条件下用时长短会影响其在不匹配条件下的用时长短，故样本为相关样本，满足配对t检验中对相关样本的要求。该实验满足配对t检验的前置条件：1.自变量有两种取值，不同取值对应两组因变量数据，参与者之间相互独立。2.样本来自的两个总体服从正态分布。"
   ]
  },
  {
   "cell_type": "markdown",
   "metadata": {},
   "source": [
    "(3) 报告关于此数据集的一些描述性统计。包含至少一个集中趋势测量和至少一个变异测量。"
   ]
  },
  {
   "cell_type": "code",
   "execution_count": 1,
   "metadata": {},
   "outputs": [
    {
     "data": {
      "text/html": [
       "<div>\n",
       "<style scoped>\n",
       "    .dataframe tbody tr th:only-of-type {\n",
       "        vertical-align: middle;\n",
       "    }\n",
       "\n",
       "    .dataframe tbody tr th {\n",
       "        vertical-align: top;\n",
       "    }\n",
       "\n",
       "    .dataframe thead th {\n",
       "        text-align: right;\n",
       "    }\n",
       "</style>\n",
       "<table border=\"1\" class=\"dataframe\">\n",
       "  <thead>\n",
       "    <tr style=\"text-align: right;\">\n",
       "      <th></th>\n",
       "      <th>Congruent</th>\n",
       "      <th>Incongruent</th>\n",
       "    </tr>\n",
       "  </thead>\n",
       "  <tbody>\n",
       "    <tr>\n",
       "      <th>count</th>\n",
       "      <td>24.000000</td>\n",
       "      <td>24.000000</td>\n",
       "    </tr>\n",
       "    <tr>\n",
       "      <th>mean</th>\n",
       "      <td>14.051125</td>\n",
       "      <td>22.015917</td>\n",
       "    </tr>\n",
       "    <tr>\n",
       "      <th>std</th>\n",
       "      <td>3.559358</td>\n",
       "      <td>4.797057</td>\n",
       "    </tr>\n",
       "    <tr>\n",
       "      <th>min</th>\n",
       "      <td>8.630000</td>\n",
       "      <td>15.687000</td>\n",
       "    </tr>\n",
       "    <tr>\n",
       "      <th>25%</th>\n",
       "      <td>11.895250</td>\n",
       "      <td>18.716750</td>\n",
       "    </tr>\n",
       "    <tr>\n",
       "      <th>50%</th>\n",
       "      <td>14.356500</td>\n",
       "      <td>21.017500</td>\n",
       "    </tr>\n",
       "    <tr>\n",
       "      <th>75%</th>\n",
       "      <td>16.200750</td>\n",
       "      <td>24.051500</td>\n",
       "    </tr>\n",
       "    <tr>\n",
       "      <th>max</th>\n",
       "      <td>22.328000</td>\n",
       "      <td>35.255000</td>\n",
       "    </tr>\n",
       "  </tbody>\n",
       "</table>\n",
       "</div>"
      ],
      "text/plain": [
       "       Congruent  Incongruent\n",
       "count  24.000000    24.000000\n",
       "mean   14.051125    22.015917\n",
       "std     3.559358     4.797057\n",
       "min     8.630000    15.687000\n",
       "25%    11.895250    18.716750\n",
       "50%    14.356500    21.017500\n",
       "75%    16.200750    24.051500\n",
       "max    22.328000    35.255000"
      ]
     },
     "execution_count": 1,
     "metadata": {},
     "output_type": "execute_result"
    }
   ],
   "source": [
    "# 执行的分析\n",
    "import pandas as pd\n",
    "\n",
    "df = pd.read_csv('stroopdata.csv')\n",
    "df.describe()"
   ]
  },
  {
   "cell_type": "markdown",
   "metadata": {},
   "source": [
    "由上表可知，一致文字条件下的标准差为3.56，不一致文字条件下的标准差为4.80。一致文字条件下的最小值为8.63，最大值为22.33，极差为13.7，不一致文字条件下的最小值为15.69，最大值为35.26，极差为19.57。\n",
    "\n",
    "一致文字条件下的平均值为14.05，不一致文字条件下的平均值为22.02。"
   ]
  },
  {
   "cell_type": "markdown",
   "metadata": {},
   "source": [
    "(4) 显示样本数据分布的可视化。"
   ]
  },
  {
   "cell_type": "code",
   "execution_count": 2,
   "metadata": {},
   "outputs": [
    {
     "data": {
      "text/plain": [
       "<matplotlib.lines.Line2D at 0x1c195edb828>"
      ]
     },
     "execution_count": 2,
     "metadata": {},
     "output_type": "execute_result"
    },
    {
     "data": {
      "image/png": "[encoded data removed]",
      "text/plain": [
       "<matplotlib.figure.Figure at 0x1c1937adf98>"
      ]
     },
     "metadata": {},
     "output_type": "display_data"
    }
   ],
   "source": [
    "# 创建可视化图表\n",
    "import matplotlib.pyplot as plt\n",
    "import seaborn as sns\n",
    "\n",
    "%matplotlib inline\n",
    "\n",
    "sns.distplot(df['Congruent'],bins=8, color='blue')\n",
    "plt.axvline(x=df['Congruent'].mean(), linewidth=.5, linestyle='dashed', color='blue')\n",
    "sns.distplot(df['Incongruent'],bins=8, color='red')\n",
    "plt.axvline(x=df['Incongruent'].mean(), linewidth=.5, linestyle='dashed', color='red')"
   ]
  },
  {
   "cell_type": "markdown",
   "metadata": {},
   "source": [
    "由上图可知，一致条件和不一致条件下分布的形状大致相同，但是不一致条件下的分布相较于一致条件下整体右移，说明不一致条件下用时会更多，这与我的推测相同，但此时还不能下结论，需要进一步统计测试。"
   ]
  },
  {
   "cell_type": "markdown",
   "metadata": {},
   "source": [
    "(5) 执行统计测试并报告结果。"
   ]
  },
  {
   "cell_type": "code",
   "execution_count": 3,
   "metadata": {},
   "outputs": [
    {
     "data": {
      "text/plain": [
       "Ttest_relResult(statistic=-8.020706944109957, pvalue=4.103000585711178e-08)"
      ]
     },
     "execution_count": 3,
     "metadata": {},
     "output_type": "execute_result"
    }
   ],
   "source": [
    "# 执行统计检验\n",
    "import scipy.stats as st\n",
    "\n",
    "st.ttest_rel(df['Congruent'],df['Incongruent'])"
   ]
  },
  {
   "cell_type": "code",
   "execution_count": 6,
   "metadata": {},
   "outputs": [
    {
     "data": {
      "text/plain": [
       "23"
      ]
     },
     "execution_count": 6,
     "metadata": {},
     "output_type": "execute_result"
    }
   ],
   "source": [
    "# 计算自由度\n",
    "n = len(df); n - 1"
   ]
  },
  {
   "cell_type": "markdown",
   "metadata": {},
   "source": [
    "在置信水平95%，显著性水平α=0.05的情况下，执行统计检验所得p值为4.103000585711178e-08，小于α,拒绝原假设。在α = 0.05，自由度为23，单尾条件下，查表得t-critical = 1.714，执行统计检验所得的t-statistic为-8.02，|t-critical| < |t-statistic|，同样拒绝原假设。因此我们有足够的证据拒绝零假设接受对立假设，即颜色词与它们文字的打印颜色匹配的情况下说出墨色的时间小于不匹配的情况下说出墨色的时间。这与我的期望一致。"
   ]
  },
  {
   "cell_type": "code",
   "execution_count": null,
   "metadata": {},
   "outputs": [],
   "source": []
  }
 ],
 "metadata": {
  "anaconda-cloud": {},
  "kernelspec": {
   "display_name": "Python 3",
   "language": "python",
   "name": "python3"
  },
  "language_info": {
   "codemirror_mode": {
    "name": "ipython",
    "version": 3
   },
   "file_extension": ".py",
   "mimetype": "text/x-python",
   "name": "python",
   "nbconvert_exporter": "python",
   "pygments_lexer": "ipython3",
   "version": "3.6.4"
  }
 },
 "nbformat": 4,
 "nbformat_minor": 2
}
